{
 "cells": [
  {
   "cell_type": "code",
   "execution_count": 8,
   "metadata": {},
   "outputs": [
    {
     "data": {
      "image/png": "[encoded data removed]",
      "text/plain": [
       "<matplotlib.figure.Figure at 0x7fdb4ec6fa20>"
      ]
     },
     "metadata": {},
     "output_type": "display_data"
    }
   ],
   "source": [
    "import matplotlib.pyplot as plt\n",
    "import numpy as np\n",
    "\n",
    "origin = np.array([15, 28, 26, 29, 16, 22, 37, 20, 9, 23, 22.5])\n",
    "proposed = np.array([89, 103, 105, 100, 85, 105, 99, 103, 87, 103])\n",
    "\n",
    "merged = [origin, proposed]\n",
    "labels = ['Origin', 'Proposed']\n",
    "\n",
    "ymin = 0\n",
    "ymax = 110\n",
    "\n",
    "#plt.boxplot(origin)\n",
    "#plt.boxplot(proposed)\n",
    "\n",
    "plt.figure()\n",
    "plt.boxplot(merged, labels=labels)\n",
    "\n",
    "plt.ylabel('Right response count')\n",
    "axes = plt.gca()\n",
    "axes.set_ylim([ymin,ymax])\n",
    "yticks = [i*10 for i in range(12)]\n",
    "#yticks = [0, 30, 110]\n",
    "plt.yticks(yticks)\n",
    "\n",
    "plt.savefig('Figs/boxplot.png')\n",
    "plt.show()"
   ]
  },
  {
   "cell_type": "code",
   "execution_count": null,
   "metadata": {
    "collapsed": true
   },
   "outputs": [],
   "source": []
  }
 ],
 "metadata": {
  "kernelspec": {
   "display_name": "Python [default]",
   "language": "python",
   "name": "python3"
  },
  "language_info": {
   "codemirror_mode": {
    "name": "ipython",
    "version": 3
   },
   "file_extension": ".py",
   "mimetype": "text/x-python",
   "name": "python",
   "nbconvert_exporter": "python",
   "pygments_lexer": "ipython3",
   "version": "3.6.3"
  }
 },
 "nbformat": 4,
 "nbformat_minor": 2
}
